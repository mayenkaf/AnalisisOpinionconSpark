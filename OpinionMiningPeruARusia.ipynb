{
 "cells": [
  {
   "cell_type": "code",
   "execution_count": 1,
   "metadata": {},
   "outputs": [],
   "source": [
    "#importar librerias pyspark\n",
    "from pyspark.sql.types import *\n",
    "from pyspark.sql.functions import *\n",
    "from pyspark.ml.classification import LogisticRegression\n",
    "from pyspark.ml.feature import HashingTF, Tokenizer, StopWordsRemover\n",
    "\n",
    "#crear sesion spark\n",
    "spark = SparkSession.builder.appName(\"Analisis_Opinion_PeruARusia\")\\\n",
    "            .config(\"spark.some.config.option\",\"some-value\")\\\n",
    "            .getOrCreate()"
   ]
  },
  {
   "cell_type": "code",
   "execution_count": 2,
   "metadata": {},
   "outputs": [
    {
     "name": "stdout",
     "output_type": "stream",
     "text": [
      "+---------+---------------+----------------+--------------------+--------+--------------------+\n",
      "|polaridad|        id_tuit|           fecha|            consulta| usuario|               texto|\n",
      "+---------+---------------+----------------+--------------------+--------+--------------------+\n",
      "|        0|120151009097021|2015-10-09 20:00|#PerdimosComoSiempre|@efatatv|la llorona http:/...|\n",
      "|        0|120151009097025|2015-10-09 16:00|#PerdimosComoSiempre|@efatatv|Nunca podrán http...|\n",
      "+---------+---------------+----------------+--------------------+--------+--------------------+\n",
      "only showing top 2 rows\n",
      "\n"
     ]
    }
   ],
   "source": [
    "#cargar dataset en DataFrame\n",
    "tuits_peruArusia = spark.read.csv(\"data/PeruARusia2018.csv\", inferSchema = True, header = True)\n",
    "tuits_peruArusia.show(2)"
   ]
  },
  {
   "cell_type": "code",
   "execution_count": 3,
   "metadata": {},
   "outputs": [
    {
     "name": "stdout",
     "output_type": "stream",
     "text": [
      "+-----+--------------------+\n",
      "|label|               texto|\n",
      "+-----+--------------------+\n",
      "|    0|la llorona http:/...|\n",
      "|    0|Nunca podrán http...|\n",
      "+-----+--------------------+\n",
      "only showing top 2 rows\n",
      "\n"
     ]
    }
   ],
   "source": [
    "#seleccionar los datos necesarios para el modelo de aprendizaje\n",
    "tuitsData = tuits_peruArusia.select(col(\"polaridad\").cast(\"Int\").alias(\"label\"),\"texto\")\n",
    "tuitsData.show(2)"
   ]
  },
  {
   "cell_type": "code",
   "execution_count": 23,
   "metadata": {},
   "outputs": [
    {
     "name": "stdout",
     "output_type": "stream",
     "text": [
      "+-----+---------------------------------------------------------------------------------------------------------------------------------------------+\n",
      "|label|texto                                                                                                                                        |\n",
      "+-----+---------------------------------------------------------------------------------------------------------------------------------------------+\n",
      "|0    |la llorona http:// ow.ly/TdYHX #perdimoscomosiempre #NuncaFaltaUnAmigoQue #Perfect #BuenViernes #MaduroTuPuebloTeApoya #Lima #Peru           |\n",
      "|0    |Nunca podrán http:// ow.ly/TdZq4 #perdimoscomosiempre #NuncaFaltaUnAmigoQue #Perfect #BuenViernes #MaduroTuPuebloTeApoya #Lima #Peru         |\n",
      "|1    |Jugamos como nunca y #PerdimosComoSiempre ..... Pero igual hasta las finales con ustedes....los veremos en #Rusia2018 ... Recién empezamos   |\n",
      "|1    |#PerdimosComoSiempre asi es el deporte pero aun seguimos alentando pic.twitter.com/CvVWcKSQeP                                                |\n",
      "|1    |#PerdimosComoSiempre eso es historia repetida, pero nunca perderemos la FE                                                                   |\n",
      "|1    |Jugamos con rebeldía, garra, inteligencia... pero #PerdimosComoSiempre                                                                       |\n",
      "|0    |Yo, ante cada partido de Peru frente a cualquier otro equipo y la familia me dicen mala onda: #PerdimosComoSiempre pic.twitter.com/hhGPKBoGfj|\n",
      "|0    |#PerdimosComoSiempre pero al menos metimos miedo                                                                                             |\n",
      "|0    |\"#PerdimosComoSiempre @galdosoficial Ahora a esperar el clásico del pacífico\"\" Al menos perderemos la esperanza. Grau perdió un barquito.\"\"\" |\n",
      "|0    |#PerdimosComoSiempre Lo de siempre: creemos pero la realidad nos mata los sueños. El fútbol duele.                                           |\n",
      "+-----+---------------------------------------------------------------------------------------------------------------------------------------------+\n",
      "only showing top 10 rows\n",
      "\n"
     ]
    }
   ],
   "source": [
    "tuitsData.show(10, False)"
   ]
  },
  {
   "cell_type": "code",
   "execution_count": 4,
   "metadata": {},
   "outputs": [
    {
     "name": "stdout",
     "output_type": "stream",
     "text": [
      "+----------------+-----+\n",
      "|text            |label|\n",
      "+----------------+-----+\n",
      "|la llorona ow   |0    |\n",
      "|Nunca podran ow |0    |\n",
      "+----------------+-----+\n",
      "only showing top 2 rows\n",
      "\n"
     ]
    }
   ],
   "source": [
    "#1.-limpiando texto, remplazando vocales atildadas por vocales simples\n",
    "dataSinTilde = tuitsData.select(translate(col(\"texto\"),\"áéíóú\",\"aeiou\")\\\n",
    "                                .alias(\"textoSinTilde\")\\\n",
    "                                ,col(\"label\"))\n",
    "\n",
    "#2 y 3.-limpiando texto, quitando @usuarios y #etiqueta\n",
    "patron = \"@[A-Za-z0-9]+|#[A-Za-z0-9]+\"\n",
    "dataSinUserEtiqueta = dataSinTilde.select(regexp_replace(col(\"textoSinTilde\"),patron,\"\")\\\n",
    "                                          .alias(\"textoSinUsEt\")\\\n",
    "                                          ,col(\"label\"))\n",
    "\n",
    "#4.-limpiando texto, quitando pic.twitter.com/... goo.gl/... \n",
    "# twitter.com/../.. /status/... fb.me/...\n",
    "patron=\"pic.twitter.com/[A-Za-z0-9]+\\\n",
    "|goo.gl/[A-Za-z0-9]+\\\n",
    "|twitter.com/[A-Za-z0-9]+/[A-Za-z0-9]+\\\n",
    "|twitter.com/[A-Za-z0-9]+\\\n",
    "|/status/[A-Za-z0-9]+\\\n",
    "|fb.me/[A-Za-z0-9]+\"\n",
    "dataSinURL = dataSinUserEtiqueta.select(regexp_replace(col(\"textoSinUsEt\"),patron,\"\")\\\n",
    "                                        .alias(\"textoSinURL\")\\\n",
    "                                        ,col(\"label\"))\n",
    "\n",
    "#5.-limpiando texto, quitando tatus/... word.word.com/ http:// https://\n",
    "patron=\"http://|https://|[A-Za-z0-9]+/[A-Za-z0-9]+\\\n",
    "|[A-Za-z0-9]+.[A-Za-z0-9]+.[A-Za-z0-9]+/[A-Za-z0-9]+\"\n",
    "dataSinURLs = dataSinURL.select(regexp_replace(col(\"textoSinURL\"),patron,\"\")\\\n",
    "                                .alias(\"textoSinURLs\")\\\n",
    "                                ,col(\"label\"))\n",
    "\n",
    "#6.-limpiando texto, quitando simbolos, signos de puntuacion\n",
    "patron=\"\\\"|\\.|,|;|:|¿|\\?|¡|!|=|-|/|…\"\n",
    "dataSinPunt = dataSinURLs.select(regexp_replace(col(\"textoSinURLs\"),patron,\"\")\\\n",
    "                                 .alias(\"textoSinPunt\")\\\n",
    "                                 ,col(\"label\"))\n",
    "\n",
    "#7.-limpiando texto, quitando espacios en blanco demas y remplazarlo por un espacio\n",
    "patron=\" +\"\n",
    "dataLimpio = dataSinPunt.select(regexp_replace(col(\"textoSinPunt\"),patron,\" \")\\\n",
    "                                .alias(\"text\")\\\n",
    "                                ,col(\"label\"))\n",
    "dataLimpio.show(2, False)"
   ]
  },
  {
   "cell_type": "code",
   "execution_count": 5,
   "metadata": {},
   "outputs": [
    {
     "name": "stdout",
     "output_type": "stream",
     "text": [
      "+-------------------------------------------------------------------------------------------------+-----+\n",
      "|text                                                                                             |label|\n",
      "+-------------------------------------------------------------------------------------------------+-----+\n",
      "|la llorona ow                                                                                    |0    |\n",
      "|Nunca podran ow                                                                                  |0    |\n",
      "|Jugamos como nunca y Pero igual hasta las finales con ustedeslos veremos en Recien empezamos     |1    |\n",
      "| asi es el deporte pero aun seguimos alentando                                                   |1    |\n",
      "| eso es historia repetida pero nunca perderemos la FE                                            |1    |\n",
      "|Jugamos con rebeldia garra inteligencia pero                                                     |1    |\n",
      "|Yo ante cada partido de Peru frente a cualquier otro equipo y la familia me dicen mala onda      |0    |\n",
      "| pero al menos metimos miedo                                                                     |0    |\n",
      "| Ahora a esperar el clasico del pacifico Al menos perderemos la esperanza Grau perdio un barquito|0    |\n",
      "| Lo de siempre creemos pero la realidad nos mata los sueños El futbol duele                      |0    |\n",
      "+-------------------------------------------------------------------------------------------------+-----+\n",
      "only showing top 10 rows\n",
      "\n"
     ]
    }
   ],
   "source": [
    "dataLimpio.show(10, False)"
   ]
  },
  {
   "cell_type": "code",
   "execution_count": 6,
   "metadata": {},
   "outputs": [
    {
     "name": "stdout",
     "output_type": "stream",
     "text": [
      "Tuits de Entrenamiento : 1974 Tuits de Prueba : 830\n"
     ]
    }
   ],
   "source": [
    "#Dividir el dataset en entrenamiento=70% y prueba=30%\n",
    "tuitsDividido = dataLimpio.randomSplit([0.7, 0.3])\n",
    "tuitsEntrenamiento = tuitsDividido[0]\n",
    "tuitsPrueba = tuitsDividido[1]\n",
    "nroTuitsEntrenamiento = tuitsEntrenamiento.count()\n",
    "nroTuitsPrueba = tuitsPrueba.count()\n",
    "print(\"Tuits de Entrenamiento :\",nroTuitsEntrenamiento, \"Tuits de Prueba :\",nroTuitsPrueba)"
   ]
  },
  {
   "cell_type": "code",
   "execution_count": 7,
   "metadata": {
    "scrolled": true
   },
   "outputs": [
    {
     "name": "stdout",
     "output_type": "stream",
     "text": [
      "+------------------------------------------------------------------------------------------------------------------------------------------------------------------------------------------------------------------------------------------------------------------------------------------------------------------------+-----+\n",
      "|palabras                                                                                                                                                                                                                                                                                                                |label|\n",
      "+------------------------------------------------------------------------------------------------------------------------------------------------------------------------------------------------------------------------------------------------------------------------------------------------------------------------+-----+\n",
      "|[, *gareca, agradeciendo, la, actitud, de, la, seleccion*, yo, y, por, qué, no, metieron, gol, y, por, qué, no, metiste, a, benavente]                                                                                                                                                                                  |0    |\n",
      "|[, 1982, era, joven, y, aun, recuerdo, la, alegria, de, estar, en, un, mundial, ya, soy, padre, y, no, volvi, a, verlo, para, mis, hijos, era, solo, un, ideal, millones, de, corazones, vibrando, 11, peruanos, y, la, gloria, de, un, balon, llegar, a, rusia, saltando, y, cantando, diciendo, fuerte, peru, campeon]|1    |\n",
      "|[, 2017, esa, fecha, esta, para, tatuarsela, en, la, frente, y, lucirla, con, orgullo]                                                                                                                                                                                                                                  |1    |\n",
      "|[, 2017, esa, fecha, esta, para, tatuarsela, en, la, frente, y, lucirla, con, orgullo]                                                                                                                                                                                                                                  |1    |\n",
      "|[, a, cualquier, lado, menos, a, un, mundial, xd, arturo, vidal, gareca]                                                                                                                                                                                                                                                |0    |\n",
      "+------------------------------------------------------------------------------------------------------------------------------------------------------------------------------------------------------------------------------------------------------------------------------------------------------------------------+-----+\n",
      "only showing top 5 rows\n",
      "\n"
     ]
    }
   ],
   "source": [
    "#Preparar Datos de Entrenamiento: Tokenizacion\n",
    "tokenizer = Tokenizer(inputCol = \"text\", outputCol=\"palabras\")\n",
    "tokenizedData = tokenizer.transform(tuitsEntrenamiento)\n",
    "tokenizedData.select(\"palabras\",\"label\").show(5, False)"
   ]
  },
  {
   "cell_type": "code",
   "execution_count": 8,
   "metadata": {},
   "outputs": [
    {
     "name": "stdout",
     "output_type": "stream",
     "text": [
      "+--------------------+-----+\n",
      "|            palabras|label|\n",
      "+--------------------+-----+\n",
      "|[, *gareca, agrad...|    0|\n",
      "|[, 1982, era, jov...|    1|\n",
      "|[, 2017, esa, fec...|    1|\n",
      "|[, 2017, esa, fec...|    1|\n",
      "|[, a, cualquier, ...|    0|\n",
      "|[, atv, ya, no, v...|    0|\n",
      "|[, ahora, a, espe...|    0|\n",
      "|[, ahora, pues, d...|    0|\n",
      "|[, algun, dia, de...|    0|\n",
      "|[, aqui, no, es, ...|    0|\n",
      "|[, arbitro, de, m...|    0|\n",
      "+--------------------+-----+\n",
      "only showing top 11 rows\n",
      "\n"
     ]
    }
   ],
   "source": [
    "tokenizedData.select(\"palabras\",\"label\").show(11)"
   ]
  },
  {
   "cell_type": "code",
   "execution_count": 9,
   "metadata": {},
   "outputs": [],
   "source": [
    "#Preparar Datos: quitar palabras sin importancia de spanish\n",
    "spanishStopWords = StopWordsRemover.loadDefaultStopWords(\"spanish\")\n",
    "swr = StopWordsRemover(stopWords = spanishStopWords, inputCol = tokenizer.getOutputCol(), outputCol=\"palabrasUtil\")\n",
    "swrTuitsData = swr.transform(tokenizedData)"
   ]
  },
  {
   "cell_type": "code",
   "execution_count": 10,
   "metadata": {},
   "outputs": [
    {
     "name": "stdout",
     "output_type": "stream",
     "text": [
      "+-------------------------------------------------------------------------------------------------------------------------------------------------------------------------------------------------------------------------+\n",
      "|palabrasUtil                                                                                                                                                                                                             |\n",
      "+-------------------------------------------------------------------------------------------------------------------------------------------------------------------------------------------------------------------------+\n",
      "|[, *gareca, agradeciendo, actitud, seleccion*, metieron, gol, metiste, benavente]                                                                                                                                        |\n",
      "|[, 1982, joven, aun, recuerdo, alegria, mundial, padre, volvi, verlo, hijos, solo, ideal, millones, corazones, vibrando, 11, peruanos, gloria, balon, llegar, rusia, saltando, cantando, diciendo, fuerte, peru, campeon]|\n",
      "|[, 2017, fecha, tatuarsela, frente, lucirla, orgullo]                                                                                                                                                                    |\n",
      "|[, 2017, fecha, tatuarsela, frente, lucirla, orgullo]                                                                                                                                                                    |\n",
      "|[, cualquier, lado, menos, mundial, xd, arturo, vidal, gareca]                                                                                                                                                           |\n",
      "|[, atv, vendan, humo, hablando, esperanzas, matematicas, mejor, pongan, combate]                                                                                                                                         |\n",
      "+-------------------------------------------------------------------------------------------------------------------------------------------------------------------------------------------------------------------------+\n",
      "only showing top 6 rows\n",
      "\n"
     ]
    }
   ],
   "source": [
    "swrTuitsData.select(\"palabrasUtil\").show(6, False)"
   ]
  },
  {
   "cell_type": "code",
   "execution_count": 11,
   "metadata": {},
   "outputs": [],
   "source": [
    "#Convertir las palabras Utiles a caracteristicas numericas\n",
    "hashTF = HashingTF(inputCol=swr.getOutputCol(),outputCol=\"features\")\n",
    "numericTrainData = hashTF.transform(swrTuitsData).select(\"label\",\"palabrasUtil\",\"features\")"
   ]
  },
  {
   "cell_type": "code",
   "execution_count": 12,
   "metadata": {},
   "outputs": [
    {
     "name": "stdout",
     "output_type": "stream",
     "text": [
      "+-----+-------------------------------------------------------------------------------------------------------------------------------------------------------------------------------------------------------------------------+------------------------------------------------------------------------------------------------------------------------------------------------------------------------------------------------------------------------------------------------------------------------------------------------------------------------+\n",
      "|label|palabrasUtil                                                                                                                                                                                                             |features                                                                                                                                                                                                                                                                                                                |\n",
      "+-----+-------------------------------------------------------------------------------------------------------------------------------------------------------------------------------------------------------------------------+------------------------------------------------------------------------------------------------------------------------------------------------------------------------------------------------------------------------------------------------------------------------------------------------------------------------+\n",
      "|0    |[, *gareca, agradeciendo, actitud, seleccion*, metieron, gol, metiste, benavente]                                                                                                                                        |(262144,[40991,71939,72809,86458,98615,122856,136718,236187,249180],[1.0,1.0,1.0,1.0,1.0,1.0,1.0,1.0,1.0])                                                                                                                                                                                                              |\n",
      "|1    |[, 1982, joven, aun, recuerdo, alegria, mundial, padre, volvi, verlo, hijos, solo, ideal, millones, corazones, vibrando, 11, peruanos, gloria, balon, llegar, rusia, saltando, cantando, diciendo, fuerte, peru, campeon]|(262144,[4407,21464,32744,60098,81224,82327,92835,102518,108672,115761,128900,131408,137491,153582,164299,174763,182683,183094,183868,192232,201816,222160,231803,233312,249180,249210,249277,257339],[1.0,1.0,1.0,1.0,1.0,1.0,1.0,1.0,1.0,1.0,1.0,1.0,1.0,1.0,1.0,1.0,1.0,1.0,1.0,1.0,1.0,1.0,1.0,1.0,1.0,1.0,1.0,1.0])|\n",
      "|1    |[, 2017, fecha, tatuarsela, frente, lucirla, orgullo]                                                                                                                                                                    |(262144,[14316,38058,136141,174906,188263,197031,249180],[1.0,1.0,1.0,1.0,1.0,1.0,1.0])                                                                                                                                                                                                                                 |\n",
      "+-----+-------------------------------------------------------------------------------------------------------------------------------------------------------------------------------------------------------------------------+------------------------------------------------------------------------------------------------------------------------------------------------------------------------------------------------------------------------------------------------------------------------------------------------------------------------+\n",
      "only showing top 3 rows\n",
      "\n"
     ]
    }
   ],
   "source": [
    "numericTrainData.show(truncate=False, n=3)"
   ]
  },
  {
   "cell_type": "code",
   "execution_count": 13,
   "metadata": {},
   "outputs": [
    {
     "name": "stdout",
     "output_type": "stream",
     "text": [
      "El modelo esta entrenado!\n"
     ]
    }
   ],
   "source": [
    "#Entrenar el modelo con los datos de entrenamiento\n",
    "lr = LogisticRegression(labelCol=\"label\",featuresCol=\"features\",maxIter=10, regParam=0.01)\n",
    "model = lr.fit(numericTrainData)\n",
    "print(\"El modelo esta entrenado!\")"
   ]
  },
  {
   "cell_type": "code",
   "execution_count": 14,
   "metadata": {},
   "outputs": [
    {
     "name": "stdout",
     "output_type": "stream",
     "text": [
      "+-----+----------------------------------------------------------------------------------------------------+-------------------------------------------------------------------------------------------------------------------------------------------------------------------+\n",
      "|label|palabrasUtil                                                                                        |features                                                                                                                                                           |\n",
      "+-----+----------------------------------------------------------------------------------------------------+-------------------------------------------------------------------------------------------------------------------------------------------------------------------+\n",
      "|0    |[, &lt&lt&lt, q, mala, defensa, aun, mejora, copa, america, colmo, perdio, peru, tremendos, errores]|(262144,[23574,48982,93899,103970,108672,122591,146326,156299,190226,204880,211882,213737,233312,249180],[1.0,1.0,1.0,1.0,1.0,1.0,1.0,1.0,1.0,1.0,1.0,1.0,1.0,1.0])|\n",
      "|0    |[, 6, goles, 4, eliminatorias, numeros, irrefutables, q, demuestran, pobre, balance, peruo]         |(262144,[18659,74372,83512,104425,111846,117990,177785,211882,221843,233878,236156,249180],[1.0,1.0,1.0,1.0,1.0,1.0,1.0,1.0,1.0,1.0,1.0,1.0])                      |\n",
      "|0    |[, cualquier, lado, menos, mundial, xd, dediquense, volley, femenino, arturo, vidal, gareca]        |(262144,[16249,19576,78636,163848,177333,181722,192232,198505,217415,249180,259296,259536],[1.0,1.0,1.0,1.0,1.0,1.0,1.0,1.0,1.0,1.0,1.0,1.0])                      |\n",
      "+-----+----------------------------------------------------------------------------------------------------+-------------------------------------------------------------------------------------------------------------------------------------------------------------------+\n",
      "only showing top 3 rows\n",
      "\n"
     ]
    }
   ],
   "source": [
    "#Preparar datos de entrenamiento\n",
    "tokenizedTest = tokenizer.transform(tuitsPrueba)\n",
    "swrTuitsDataTest = swr.transform(tokenizedTest)\n",
    "numericTest = hashTF.transform(swrTuitsDataTest).select(\"label\",\"palabrasUtil\",\"features\")\n",
    "numericTest.show(truncate = False, n = 3)"
   ]
  },
  {
   "cell_type": "code",
   "execution_count": 15,
   "metadata": {},
   "outputs": [
    {
     "name": "stdout",
     "output_type": "stream",
     "text": [
      "+--------------------+----------+-----+\n",
      "|        palabrasUtil|prediction|label|\n",
      "+--------------------+----------+-----+\n",
      "|[, &lt&lt&lt, q, ...|       0.0|    0|\n",
      "|[, 6, goles, 4, e...|       0.0|    0|\n",
      "|[, cualquier, lad...|       0.0|    0|\n",
      "|[, qui, viene, ve...|       1.0|    1|\n",
      "|[, gusta, futbol,...|       0.0|    0|\n",
      "+--------------------+----------+-----+\n",
      "only showing top 5 rows\n",
      "\n",
      "Predicciones correctas : 678 Total Datos : 830 Accuracy : 0.8168674698795181\n"
     ]
    }
   ],
   "source": [
    "#Predecir los datos de prueba y calcular la presicion del modelo\n",
    "prediction = model.transform(numericTest)\n",
    "predictionFinal = prediction.select(\"palabrasUtil\",\"prediction\",\"label\")\n",
    "predictionFinal.show(n=5)\n",
    "correctPrediction = predictionFinal.filter(predictionFinal[\"label\"]==predictionFinal[\"prediction\"]).count()\n",
    "totalData = predictionFinal.count()\n",
    "accuracy = correctPrediction/totalData\n",
    "print(\"Predicciones correctas :\",correctPrediction, \"Total Datos :\", totalData, \"Accuracy :\",accuracy)"
   ]
  },
  {
   "cell_type": "code",
   "execution_count": 16,
   "metadata": {},
   "outputs": [
    {
     "name": "stdout",
     "output_type": "stream",
     "text": [
      "415\n"
     ]
    }
   ],
   "source": [
    "true_positives = predictionFinal.filter('label==1 and prediction==1.0').count()\n",
    "print(true_positives)"
   ]
  },
  {
   "cell_type": "code",
   "execution_count": 17,
   "metadata": {},
   "outputs": [
    {
     "name": "stdout",
     "output_type": "stream",
     "text": [
      "263\n"
     ]
    }
   ],
   "source": [
    "true_negatives = predictionFinal.filter('label==0 and prediction==0.0').count()\n",
    "print(true_negatives)"
   ]
  },
  {
   "cell_type": "code",
   "execution_count": 18,
   "metadata": {},
   "outputs": [
    {
     "name": "stdout",
     "output_type": "stream",
     "text": [
      "117\n",
      "35\n"
     ]
    }
   ],
   "source": [
    "false_positives = predictionFinal.filter('label==0 and prediction==1.0').count()\n",
    "print(false_positives)\n",
    "false_negatives = predictionFinal.filter('label==1 and prediction==0.0').count()\n",
    "print(false_negatives)"
   ]
  },
  {
   "cell_type": "code",
   "execution_count": 19,
   "metadata": {},
   "outputs": [
    {
     "name": "stdout",
     "output_type": "stream",
     "text": [
      "Recall : 0.9222222222222223\n",
      "Precision : 0.7800751879699248\n",
      "Accuracy : 0.8168674698795181\n"
     ]
    }
   ],
   "source": [
    "recall = float(true_positives)/(true_positives + false_negatives)\n",
    "print(\"Recall :\", recall)\n",
    "precision = float(true_positives)/(true_positives + false_positives)\n",
    "print(\"Precision :\", precision)\n",
    "accuracy = float(true_positives + true_negatives)/(totalData)\n",
    "print(\"Accuracy :\", accuracy)"
   ]
  },
  {
   "cell_type": "code",
   "execution_count": 22,
   "metadata": {},
   "outputs": [
    {
     "name": "stdout",
     "output_type": "stream",
     "text": [
      "F1 Score : 0.845213849287169\n"
     ]
    }
   ],
   "source": [
    "F1Score = 2*float(precision*recall)/(precision + recall)\n",
    "print(\"F1 Score :\", F1Score)"
   ]
  },
  {
   "cell_type": "code",
   "execution_count": null,
   "metadata": {},
   "outputs": [],
   "source": []
  }
 ],
 "metadata": {
  "kernelspec": {
   "display_name": "Python 3",
   "language": "python",
   "name": "python3"
  },
  "language_info": {
   "codemirror_mode": {
    "name": "ipython",
    "version": 3
   },
   "file_extension": ".py",
   "mimetype": "text/x-python",
   "name": "python",
   "nbconvert_exporter": "python",
   "pygments_lexer": "ipython3",
   "version": "3.7.4"
  }
 },
 "nbformat": 4,
 "nbformat_minor": 2
}
